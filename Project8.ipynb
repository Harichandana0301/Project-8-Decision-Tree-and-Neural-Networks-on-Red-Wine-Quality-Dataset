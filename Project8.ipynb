{
 "cells": [
  {
   "cell_type": "code",
   "execution_count": null,
   "id": "87493850",
   "metadata": {},
   "outputs": [],
   "source": [
    "import pandas as pd\n",
    "import numpy as np\n",
    "import seaborn as sns\n",
    "import matplotlib.pyplot as plt\n",
    "from IPython.display import SVG\n",
    "from sklearn.metrics import classification_report,accuracy_score\n",
    "from sklearn.model_selection import GridSearchCV\n",
    "from sklearn.model_selection import train_test_split\n",
    "from sklearn.tree import DecisionTreeClassifier, export_graphviz\n",
    "import warnings\n",
    "warnings.simplefilter('ignore')"
   ]
  },
  {
   "cell_type": "code",
   "execution_count": null,
   "id": "68bb17e3",
   "metadata": {},
   "outputs": [],
   "source": [
    "wine = pd.read_csv('winequality-red.csv')\n",
    "wine.head()"
   ]
  },
  {
   "cell_type": "code",
   "execution_count": null,
   "id": "142391e6",
   "metadata": {},
   "outputs": [],
   "source": [
    "sns.countplot(x='quality', data=wine)"
   ]
  },
  {
   "cell_type": "code",
   "execution_count": null,
   "id": "21f1fdb7",
   "metadata": {
    "scrolled": true
   },
   "outputs": [],
   "source": [
    "corr_matrix = wine.corr()\n",
    "plt.figure(figsize=(7, 6))\n",
    "sns.heatmap(corr_matrix, annot=True)"
   ]
  },
  {
   "cell_type": "code",
   "execution_count": null,
   "id": "6aed7c5c",
   "metadata": {},
   "outputs": [],
   "source": [
    "corr_matrix = wine.corr()\n",
    "corr_with_target = abs(corr_matrix['quality']).sort_values(ascending=False)\n",
    "best_features = corr_with_target[1:6].index.tolist()\n",
    "print(\"Best features based on correlation analysis: \", best_features)"
   ]
  },
  {
   "cell_type": "code",
   "execution_count": null,
   "id": "2e13c9dd",
   "metadata": {},
   "outputs": [],
   "source": [
    "wine.columns"
   ]
  },
  {
   "cell_type": "code",
   "execution_count": null,
   "id": "e7aa39a2",
   "metadata": {},
   "outputs": [],
   "source": [
    "wine.quality.unique()"
   ]
  },
  {
   "cell_type": "code",
   "execution_count": null,
   "id": "8826e133",
   "metadata": {},
   "outputs": [],
   "source": [
    "# create a list of feature columns\n",
    "feature_cols = ['alcohol', 'volatile acidity', 'sulphates', 'citric acid', 'total sulfur dioxide']\n",
    "\n",
    "# define X and y\n",
    "X = wine[feature_cols]\n",
    "y = wine.quality"
   ]
  },
  {
   "cell_type": "markdown",
   "id": "49e4c12b",
   "metadata": {},
   "source": [
    "#### Effect of depth on bias and variance"
   ]
  },
  {
   "cell_type": "code",
   "execution_count": null,
   "id": "24c3d8d0",
   "metadata": {},
   "outputs": [],
   "source": [
    "X_train, X_test, y_train, y_test = train_test_split(X, y, test_size=0.2, random_state=42)\n",
    "max_depth_list = [1, 2, 3, 4, 5, 6, 7, 8, 9, 10]\n",
    "train_accuracies = []\n",
    "test_accuracies = []\n",
    "for max_depth in max_depth_list:\n",
    "    dt = DecisionTreeClassifier(max_depth=max_depth, random_state=42)  \n",
    "    dt.fit(X_train, y_train)\n",
    "    train_pred = dt.predict(X_train)\n",
    "    train_accuracy = accuracy_score(y_train, train_pred)\n",
    "    train_accuracies.append(train_accuracy)\n",
    "    test_pred = dt.predict(X_test)\n",
    "    test_accuracy = accuracy_score(y_test, test_pred)\n",
    "    test_accuracies.append(test_accuracy)\n",
    "# Plot the training and test accuracies\n",
    "plt.plot(max_depth_list, train_accuracies, label='Training accuracy')\n",
    "plt.plot(max_depth_list, test_accuracies, label='Test accuracy')\n",
    "plt.xlabel('Max depth')\n",
    "plt.ylabel('Accuracy')\n",
    "plt.legend()\n",
    "plt.show()"
   ]
  },
  {
   "cell_type": "markdown",
   "id": "7d21ed40",
   "metadata": {},
   "source": [
    "#### Approach1"
   ]
  },
  {
   "cell_type": "code",
   "execution_count": null,
   "id": "9e83cdb9",
   "metadata": {},
   "outputs": [],
   "source": [
    "from sklearn.tree import DecisionTreeClassifier, export_graphviz\n",
    "from graphviz import Source\n",
    "# train decision tree with max_depth=2\n",
    "tree_depth_2 = DecisionTreeClassifier(max_depth=2,random_state=1)\n",
    "tree_depth_2.fit(X, y)\n",
    "# print feature importances\n",
    "for name, importance in zip(feature_cols,tree_depth_2.feature_importances_):\n",
    "    print(f\"{name}: {importance}\")\n",
    "    \n",
    "graph = Source(export_graphviz(tree_depth_2, out_file=None,\n",
    "                               feature_names=feature_cols,\n",
    "                               class_names=['3','4','5','6','7','8'],\n",
    "                               filled=True))\n",
    "svg = SVG(graph.pipe(format='svg'))\n",
    "display(svg)"
   ]
  },
  {
   "cell_type": "code",
   "execution_count": null,
   "id": "a1107d62",
   "metadata": {},
   "outputs": [],
   "source": [
    "from sklearn.model_selection import train_test_split\n",
    "X_train, X_test, y_train, y_test = train_test_split(X, y, test_size=0.2, random_state=1)\n",
    "\n",
    "# Train decision tree with max_depth=2\n",
    "tree_depth_2= DecisionTreeClassifier(max_depth=2,random_state=1)\n",
    "tree_depth_2.fit(X_train, y_train)\n",
    "y_pred = tree_depth_2.predict(X_test)\n",
    "# accuracy on the testing set\n",
    "accuracy = tree_depth_2.score(X_test, y_test)\n",
    "print(\"Accuracy:\", accuracy)\n",
    "# generate classification report\n",
    "report = classification_report(y_test, y_pred)\n",
    "print(report)"
   ]
  },
  {
   "cell_type": "code",
   "execution_count": null,
   "id": "be89d221",
   "metadata": {},
   "outputs": [],
   "source": [
    "# create a decision tree classifier with max_depth=5\n",
    "tree_depth_5 = DecisionTreeClassifier(max_depth=5,random_state=1)\n",
    "tree_depth_5.fit(X, y)\n",
    "\n",
    "for name, importance in zip(feature_cols,tree_depth_5.feature_importances_):\n",
    "    print(f\"{name}: {importance}\")\n",
    "    \n",
    "# generate the Graphviz representation of the decision tree\n",
    "graph5 = Source(export_graphviz(tree_depth_5, out_file=None,\n",
    "                               feature_names=feature_cols,\n",
    "                               class_names=['3','4','5','6','7','8'],\n",
    "                               filled=True)) \n",
    "svg5 = SVG(graph5.pipe(format='svg'))\n",
    "display(svg5)\n",
    "# graph5.render('max depth 5 - Multi-class', format='png', view=True)"
   ]
  },
  {
   "cell_type": "code",
   "execution_count": null,
   "id": "df5b63ad",
   "metadata": {},
   "outputs": [],
   "source": [
    "from sklearn.model_selection import train_test_split\n",
    "X_train, X_test, y_train, y_test = train_test_split(X, y, test_size=0.2, random_state=1)\n",
    "\n",
    "# Train decision tree with max_depth=5\n",
    "tree_depth_5 = DecisionTreeClassifier(max_depth=5,random_state=1)\n",
    "tree_depth_5.fit(X_train, y_train)\n",
    "y_pred = tree_depth_5.predict(X_test)\n",
    "# accuracy on the testing set\n",
    "accuracy = tree_depth_5.score(X_test, y_test)\n",
    "print(\"Accuracy:\", accuracy)\n",
    "# generate classification report\n",
    "report = classification_report(y_test, y_pred)\n",
    "print(report)"
   ]
  },
  {
   "cell_type": "markdown",
   "id": "42d608a5",
   "metadata": {},
   "source": [
    "#### hyperparameters"
   ]
  },
  {
   "cell_type": "code",
   "execution_count": null,
   "id": "d03ac541",
   "metadata": {},
   "outputs": [],
   "source": [
    "from sklearn.model_selection import GridSearchCV\n",
    "from sklearn.tree import DecisionTreeClassifier\n",
    "param_grid = {'criterion': ['gini', 'entropy'],\n",
    "              'max_depth': [1, 2, 3, 5],\n",
    "              'min_samples_leaf': [2, 5, 7, 10],\n",
    "              'max_leaf_nodes': [None, 5, 7, 10]}\n",
    "tree = DecisionTreeClassifier(random_state=1)\n",
    "grid_search = GridSearchCV(estimator=tree, param_grid=param_grid, cv=5, n_jobs=-1)\n",
    "grid_search.fit(X, y)\n",
    "print(\"Best parameters: \", grid_search.best_params_)"
   ]
  },
  {
   "cell_type": "code",
   "execution_count": null,
   "id": "a70df63d",
   "metadata": {},
   "outputs": [],
   "source": [
    "# create a decision tree classifier with best parameters\n",
    "best_params = DecisionTreeClassifier(criterion='entropy',max_depth=5,max_leaf_nodes= None ,min_samples_leaf=5,random_state=1)\n",
    "best_params.fit(X, y)\n",
    "\n",
    "# generate the Graphviz representation of the decision tree\n",
    "best_tree = Source(export_graphviz(best_params, out_file=None,\n",
    "                               feature_names=feature_cols,\n",
    "                               class_names=['3','4','5','6','7','8'],\n",
    "                               filled=True)) \n",
    "best_tree = SVG(best_tree.pipe(format='svg'))\n",
    "display(best_tree)\n",
    "# best_tree.format = 'png'\n",
    "# best_tree.render('Tree using hyperparameters - Multi-class', view=True)"
   ]
  },
  {
   "cell_type": "code",
   "execution_count": null,
   "id": "56492b99",
   "metadata": {},
   "outputs": [],
   "source": [
    "best_tree_metrics= DecisionTreeClassifier(criterion='entropy',max_depth=5,max_leaf_nodes= None ,min_samples_leaf=5,random_state=1)\n",
    "X_train, X_test, y_train, y_test = train_test_split(X, y, test_size=0.2, random_state=1)\n",
    "best_tree_metrics.fit(X_train, y_train)\n",
    "accuracy = best_tree_metrics.score(X_test, y_test)\n",
    "print(\"Accuracy:\", accuracy)\n",
    "y_pred = best_tree_metrics.predict(X_test)\n",
    "report = classification_report(y_test, y_pred)\n",
    "print(report)"
   ]
  },
  {
   "cell_type": "markdown",
   "id": "c59eeb28",
   "metadata": {},
   "source": [
    "#### Approach2"
   ]
  },
  {
   "cell_type": "code",
   "execution_count": null,
   "id": "d66d0b96",
   "metadata": {},
   "outputs": [],
   "source": [
    "df = pd.read_csv('winequality-red.csv')\n",
    "df.head()"
   ]
  },
  {
   "cell_type": "code",
   "execution_count": null,
   "id": "3e51a4c7",
   "metadata": {},
   "outputs": [],
   "source": [
    "df['quality'] = df['quality'].apply(lambda x : 0 if x <=5 else 1)\n",
    "df.head()"
   ]
  },
  {
   "cell_type": "code",
   "execution_count": null,
   "id": "85716358",
   "metadata": {},
   "outputs": [],
   "source": [
    "sns.countplot(x='quality', data=df)"
   ]
  },
  {
   "cell_type": "code",
   "execution_count": null,
   "id": "294bb67b",
   "metadata": {},
   "outputs": [],
   "source": [
    "corr_matrix = df.corr()\n",
    "corr_with_target = abs(corr_matrix['quality']).sort_values(ascending=False)\n",
    "best_features = corr_with_target[1:6].index.tolist()\n",
    "print(\"Best features based on correlation analysis: \", best_features)"
   ]
  },
  {
   "cell_type": "code",
   "execution_count": null,
   "id": "bd5caaa3",
   "metadata": {},
   "outputs": [],
   "source": [
    "# create a list of feature columns\n",
    "feature_cols = ['alcohol', 'volatile acidity', 'sulphates', 'citric acid', 'total sulfur dioxide']\n",
    "\n",
    "# define X and y\n",
    "X = df[feature_cols]\n",
    "y = df.quality"
   ]
  },
  {
   "cell_type": "code",
   "execution_count": null,
   "id": "7c27e49d",
   "metadata": {},
   "outputs": [],
   "source": [
    "from sklearn.tree import DecisionTreeClassifier, export_graphviz\n",
    "from graphviz import Source\n",
    "# train decision tree with max_depth=2\n",
    "tree_depth_2_binary= DecisionTreeClassifier(max_depth=2,random_state=1)\n",
    "tree_depth_2_binary.fit(X, y)\n",
    "# print feature importances\n",
    "for name, importance in zip(feature_cols, tree_depth_2_binary.feature_importances_):\n",
    "    print(f\"{name}: {importance}\")\n",
    "    \n",
    "graph = Source(export_graphviz(tree_depth_2_binary, out_file=None,\n",
    "                               feature_names=feature_cols,\n",
    "                               class_names=['0','1'],#'3', '4', '5', '6', '7', '8'],\n",
    "                               filled=True))\n",
    "svg = SVG(graph.pipe(format='svg'))\n",
    "display(svg)"
   ]
  },
  {
   "cell_type": "code",
   "execution_count": null,
   "id": "3af21b07",
   "metadata": {},
   "outputs": [],
   "source": [
    "from sklearn.model_selection import train_test_split\n",
    "X_train, X_test, y_train, y_test = train_test_split(X, y, test_size=0.2, random_state=1)\n",
    "# Train decision tree with max_depth=2\n",
    "tree_depth_2_binary = DecisionTreeClassifier(max_depth=2,random_state=1)\n",
    "tree_depth_2_binary.fit(X_train, y_train)\n",
    "# accuracy on the testing set\n",
    "accuracy = tree_depth_2_binary.score(X_test, y_test)\n",
    "print(\"Accuracy:\", accuracy)"
   ]
  },
  {
   "cell_type": "code",
   "execution_count": null,
   "id": "2038a548",
   "metadata": {},
   "outputs": [],
   "source": [
    "# create a decision tree classifier with max_depth=5\n",
    "tree_depth_5_binary = DecisionTreeClassifier(max_depth=5,random_state=1)\n",
    "tree_depth_5_binary.fit(X, y)\n",
    "for name, importance in zip(feature_cols,tree_depth_5_binary.feature_importances_):\n",
    "    print(f\"{name}: {importance}\")\n",
    "    \n",
    "# generate the Graphviz representation of the decision tree\n",
    "graph5 = Source(export_graphviz(tree_depth_5_binary, out_file=None,\n",
    "                               feature_names=feature_cols,\n",
    "                               class_names=['0', '1'],\n",
    "                               filled=True)) \n",
    "svg5 = SVG(graph5.pipe(format='svg'))\n",
    "display(svg5)\n",
    "# graph5.render('max depth 5 - Binary class', format='png', view=True)"
   ]
  },
  {
   "cell_type": "code",
   "execution_count": null,
   "id": "e5b75ed2",
   "metadata": {},
   "outputs": [],
   "source": [
    "from sklearn.model_selection import train_test_split\n",
    "X_train, X_test, y_train, y_test = train_test_split(X, y, test_size=0.2, random_state=1)\n",
    "# Train decision tree with max_depth=5\n",
    "tree_depth_5_binary = DecisionTreeClassifier(max_depth=5,random_state=1)\n",
    "tree_depth_5_binary.fit(X_train, y_train)\n",
    "# y_pred = tree5.predict(X_test)\n",
    "# accuracy on the testing set\n",
    "accuracy = tree_depth_5_binary.score(X_test, y_test)\n",
    "print(\"Accuracy:\", accuracy)\n",
    "y_pred = best_tree_metrics.predict(X_test)"
   ]
  },
  {
   "cell_type": "markdown",
   "id": "12efd1f6",
   "metadata": {},
   "source": [
    "#### Neural Networks"
   ]
  },
  {
   "cell_type": "code",
   "execution_count": null,
   "id": "000e040b",
   "metadata": {},
   "outputs": [],
   "source": [
    "import pandas as pd\n",
    "import numpy as np\n",
    "import matplotlib.pyplot as plt\n",
    "from sklearn.preprocessing import StandardScaler\n",
    "from sklearn.metrics import classification_report,confusion_matrix\n",
    "from sklearn.neural_network import MLPClassifier\n",
    "from sklearn.metrics import accuracy_score"
   ]
  },
  {
   "cell_type": "code",
   "execution_count": null,
   "id": "7b886034",
   "metadata": {},
   "outputs": [],
   "source": [
    "pip install networkx"
   ]
  },
  {
   "cell_type": "code",
   "execution_count": null,
   "id": "312e926d",
   "metadata": {},
   "outputs": [],
   "source": [
    "X = df.drop(['quality'],axis=1)\n",
    "y = df['quality']\n",
    "\n",
    "X_train, X_test, y_train, y_test = train_test_split(X, y)"
   ]
  },
  {
   "cell_type": "code",
   "execution_count": null,
   "id": "9b429a63",
   "metadata": {},
   "outputs": [],
   "source": [
    "# you may need to install networkx with pip\n",
    "import networkx as nx\n",
    "import colorsys\n",
    "\n",
    "def show_ann(mlp):\n",
    "    hidden_layers_n = len(mlp.coefs_)-1\n",
    "    layers_n = hidden_layers_n + 2\n",
    "    input_neurons_n = len(mlp.coefs_[0])\n",
    "    hidden_neurons_n = [len(mlp.coefs_[i+1]) for i in range(hidden_layers_n)]\n",
    "    output_neurons_n = len(mlp.coefs_[-1][0])\n",
    "\n",
    "    G = nx.DiGraph()\n",
    "    pos = {}\n",
    "\n",
    "    # Create the neurons of the input layer\n",
    "    for i in range(input_neurons_n):\n",
    "        pos['Layer0_{}'.format(i)] = (i,layers_n-1)\n",
    "\n",
    "    for j in range(hidden_layers_n):\n",
    "        # Create the neurons of the j'th hidden layer\n",
    "        prev_layer = j\n",
    "        cur_layer = j+1\n",
    "        if (j == 0):\n",
    "            prev_size = input_neurons_n\n",
    "        else:\n",
    "            prev_size = hidden_neurons_n[j-1]\n",
    "        for i in range(hidden_neurons_n[j]):\n",
    "            pos['Layer{}_{}'.format(cur_layer,i)] = (i,layers_n-1-cur_layer)\n",
    "            for k in range(prev_size):\n",
    "                w = mlp.coefs_[prev_layer][k][i]\n",
    "                G.add_edge('Layer{}_{}'.format(prev_layer,k),'Layer{}_{}'.format(cur_layer,i), weight=w)\n",
    "\n",
    "    # Create the neurons of the output layer\n",
    "    prev_layer = hidden_layers_n\n",
    "    cur_layer = hidden_layers_n+1\n",
    "    for i in range(output_neurons_n):\n",
    "        pos['Layer{}_{}'.format(cur_layer,i)] = (i,layers_n-1-cur_layer)\n",
    "        for k in range(hidden_neurons_n[-1]):\n",
    "            w = mlp.coefs_[prev_layer][k][i]\n",
    "            G.add_edge('Layer{}_{}'.format(prev_layer,k),'Layer{}_{}'.format(cur_layer,i), weight=w)\n",
    "\n",
    "    edges = G.edges()\n",
    "    colors = [colorsys.hsv_to_rgb(0 if G[u][v]['weight'] < 0 else 0.65,\n",
    "                                  1,#min(1, abs(G[u][v]['weight'])),\n",
    "                                  1) for u,v in edges]\n",
    "    weights = [abs(G[u][v]['weight'])*2 for u,v in edges]\n",
    "\n",
    "    nx.draw(G, pos, node_color='y', node_size=450, width=weights, edge_color=colors)\n",
    "    "
   ]
  },
  {
   "cell_type": "code",
   "execution_count": null,
   "id": "68bce404",
   "metadata": {},
   "outputs": [],
   "source": [
    "X.columns"
   ]
  },
  {
   "cell_type": "code",
   "execution_count": null,
   "id": "b9fbb18f",
   "metadata": {},
   "outputs": [],
   "source": [
    "df.quality.unique()"
   ]
  },
  {
   "cell_type": "code",
   "execution_count": null,
   "id": "17651cd0",
   "metadata": {},
   "outputs": [],
   "source": [
    "scaler = StandardScaler()\n",
    "\n",
    "# Fit only to the training data\n",
    "scaler.fit(X_train)\n",
    "\n",
    "# Now apply the transformations to the data:\n",
    "X_train = scaler.transform(X_train)\n",
    "X_test = scaler.transform(X_test)"
   ]
  },
  {
   "cell_type": "code",
   "execution_count": null,
   "id": "72943dd7",
   "metadata": {},
   "outputs": [],
   "source": [
    "from sklearn.neural_network import MLPClassifier\n",
    "from sklearn.model_selection import GridSearchCV\n",
    "param_grid = {\n",
    "    'hidden_layer_sizes': [(2, 2),(5, 5), (10, 10), (15, 15, 15), (30, 30),(30, 30, 15)]\n",
    "}\n",
    "\n",
    "mlp = MLPClassifier(max_iter=10000)\n",
    "grid = GridSearchCV(mlp, param_grid, cv=5)\n",
    "grid.fit(X_train, y_train)\n",
    "results = grid.cv_results_\n",
    "scores = results['mean_test_score']\n",
    "best_scores_idx = scores.argsort()[-3:][::-1]\n",
    "for i in range(3):\n",
    "    idx = best_scores_idx[i]\n",
    "    print(\"Configuration \", i+1, \":\")\n",
    "    print(\"Parameters:\", results['params'][idx])\n",
    "    print(\"\")\n",
    "best_config = results['params'][best_scores_idx[0]]\n",
    "best_mlp = MLPClassifier(max_iter=10000, **best_config)\n",
    "best_mlp.fit(X_train, y_train)"
   ]
  },
  {
   "cell_type": "code",
   "execution_count": null,
   "id": "803c00e3",
   "metadata": {},
   "outputs": [],
   "source": [
    "nn1 = MLPClassifier(hidden_layer_sizes=(2, 2),max_iter=500)\n",
    "nn1.fit(X_train,y_train)\n",
    "predictions = nn1.predict(X_test)\n",
    "print(confusion_matrix(y_test, predictions))"
   ]
  },
  {
   "cell_type": "code",
   "execution_count": null,
   "id": "c00e3732",
   "metadata": {},
   "outputs": [],
   "source": [
    "print(classification_report(y_test,predictions))"
   ]
  },
  {
   "cell_type": "code",
   "execution_count": null,
   "id": "ec33cffd",
   "metadata": {},
   "outputs": [],
   "source": [
    "print('This dataset has {} input nodes and {} output node(s)'.format(len(X.columns), len(y.unique())))\n",
    "print('There are {} 2D arrays of coefficients, one for each layer'.format(len(nn1.coefs_)))\n",
    "print('The layers have the following number of coefficients: {}')\n",
    "for l in range(len(nn1.coefs_)):\n",
    "    m = len(nn1.coefs_[l])\n",
    "    n = len(nn1.coefs_[l][0])\n",
    "    print('  {}: {}x{} ({} nodes feeding into a layer of {} nodes)'.format(l, m, n, m, n))\n",
    "# Print the actual coefficients\n",
    "# print(mlp.coefs_)\n",
    "print()\n",
    "print('There are {} 1D arrays of intercepts, one for each layer'.format(len(nn1.intercepts_)))\n",
    "print('Each layer has {} intercepts, one for each node'.format([len(nn1.intercepts_[l]) for l,_ in enumerate(nn1.intercepts_)]))\n"
   ]
  },
  {
   "cell_type": "code",
   "execution_count": null,
   "id": "356ce437",
   "metadata": {},
   "outputs": [],
   "source": [
    "show_ann(nn1)"
   ]
  },
  {
   "cell_type": "code",
   "execution_count": null,
   "id": "87ed8b94",
   "metadata": {},
   "outputs": [],
   "source": [
    "nn2 = MLPClassifier(hidden_layer_sizes=(15, 15, 15),max_iter=10000)\n",
    "nn2.fit(X_train,y_train)\n",
    "predictions = nn2.predict(X_test)\n",
    "print(confusion_matrix(y_test, predictions))"
   ]
  },
  {
   "cell_type": "code",
   "execution_count": null,
   "id": "28a33e7a",
   "metadata": {},
   "outputs": [],
   "source": [
    "print(classification_report(y_test,predictions))"
   ]
  },
  {
   "cell_type": "code",
   "execution_count": null,
   "id": "b0fa31fc",
   "metadata": {},
   "outputs": [],
   "source": [
    "show_ann(nn2)"
   ]
  },
  {
   "cell_type": "code",
   "execution_count": null,
   "id": "98a158f2",
   "metadata": {},
   "outputs": [],
   "source": [
    "nn3 = MLPClassifier(hidden_layer_sizes=(30, 30, 15),max_iter=10000)\n",
    "nn3.fit(X_train,y_train)\n",
    "predictions = nn3.predict(X_test)\n",
    "print(confusion_matrix(y_test, predictions))"
   ]
  },
  {
   "cell_type": "code",
   "execution_count": null,
   "id": "a2e2fc15",
   "metadata": {},
   "outputs": [],
   "source": [
    "print(classification_report(y_test,predictions))"
   ]
  },
  {
   "cell_type": "code",
   "execution_count": null,
   "id": "025218cf",
   "metadata": {},
   "outputs": [],
   "source": [
    "show_ann(nn3)"
   ]
  },
  {
   "cell_type": "code",
   "execution_count": null,
   "id": "f49f6e3e",
   "metadata": {},
   "outputs": [],
   "source": [
    "nn4 = MLPClassifier(hidden_layer_sizes=(30, 30),max_iter=10000)\n",
    "nn4.fit(X_train,y_train)\n",
    "predictions = nn1.predict(X_test)\n",
    "print(confusion_matrix(y_test, predictions))"
   ]
  },
  {
   "cell_type": "code",
   "execution_count": null,
   "id": "8d60dd8b",
   "metadata": {},
   "outputs": [],
   "source": [
    "print(classification_report(y_test,predictions))"
   ]
  },
  {
   "cell_type": "code",
   "execution_count": null,
   "id": "ffa274e9",
   "metadata": {},
   "outputs": [],
   "source": [
    "show_ann(nn4)"
   ]
  }
 ],
 "metadata": {
  "kernelspec": {
   "display_name": "Python 3 (ipykernel)",
   "language": "python",
   "name": "python3"
  },
  "language_info": {
   "codemirror_mode": {
    "name": "ipython",
    "version": 3
   },
   "file_extension": ".py",
   "mimetype": "text/x-python",
   "name": "python",
   "nbconvert_exporter": "python",
   "pygments_lexer": "ipython3",
   "version": "3.9.13"
  }
 },
 "nbformat": 4,
 "nbformat_minor": 5
}
